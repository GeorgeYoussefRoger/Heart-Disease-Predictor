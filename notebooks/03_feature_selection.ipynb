{
 "cells": [
  {
   "cell_type": "markdown",
   "id": "62c85788",
   "metadata": {},
   "source": [
    "# Feature Selection\n",
    "This notebook focuses on selecting the most relevant features using techniques like Feature Importance, Recursive Feature Elimination (RFE) and the Chi-Square Test."
   ]
  },
  {
   "cell_type": "markdown",
   "id": "608b7e3b",
   "metadata": {},
   "source": [
    "## 1. Importing necessary libraries"
   ]
  },
  {
   "cell_type": "code",
   "execution_count": null,
   "id": "d9346539",
   "metadata": {},
   "outputs": [],
   "source": [
    "import pandas as pd\n",
    "import matplotlib.pyplot as plt\n",
    "import seaborn as sns\n",
    "from sklearn.ensemble import RandomForestClassifier\n",
    "from sklearn.feature_selection import RFE, chi2, SelectKBest\n",
    "from sklearn.linear_model import LogisticRegression\n",
    "from sklearn.preprocessing import MinMaxScaler"
   ]
  },
  {
   "cell_type": "markdown",
   "id": "f0882b0c",
   "metadata": {},
   "source": [
    "## 2. Loading the cleaned dataset"
   ]
  },
  {
   "cell_type": "code",
   "execution_count": null,
   "id": "548c6df2",
   "metadata": {},
   "outputs": [],
   "source": [
    "df = pd.read_csv(\"../data/cleaned_heart_disease.csv\")\n",
    "\n",
    "X = df.drop(\"target\", axis=1)\n",
    "y = df[\"target\"]"
   ]
  },
  {
   "cell_type": "markdown",
   "id": "3f24a76e",
   "metadata": {},
   "source": [
    "## 3. Applying Feature Importance using Random Forest"
   ]
  },
  {
   "cell_type": "code",
   "execution_count": null,
   "id": "21f4e410",
   "metadata": {},
   "outputs": [],
   "source": [
    "rf = RandomForestClassifier(random_state=42)\n",
    "rf.fit(X, y)\n",
    "\n",
    "importances = pd.Series(rf.feature_importances_, index=X.columns).sort_values(ascending=False)"
   ]
  },
  {
   "cell_type": "markdown",
   "id": "2983182a",
   "metadata": {},
   "source": [
    "## 4. Visualizing Feature Importance"
   ]
  },
  {
   "cell_type": "code",
   "execution_count": null,
   "id": "f7354e30",
   "metadata": {},
   "outputs": [],
   "source": [
    "plt.figure(figsize=(10,8))\n",
    "sns.barplot(x=importances, y=importances.index)\n",
    "plt.xlabel(\"Feature Importance Score\")\n",
    "plt.ylabel(\"Features\")\n",
    "plt.title(\"Feature Importance (Random Forest)\")\n",
    "plt.show()"
   ]
  },
  {
   "cell_type": "markdown",
   "id": "9069cba4",
   "metadata": {},
   "source": [
    "## 5. Recursive Feature Elimination"
   ]
  },
  {
   "cell_type": "code",
   "execution_count": null,
   "id": "8ac8f809",
   "metadata": {},
   "outputs": [],
   "source": [
    "lr = LogisticRegression(random_state=42)\n",
    "rfe = RFE(lr, n_features_to_select=8)\n",
    "rfe.fit(X, y)\n",
    "\n",
    "print(\"RFE Selected Features:\", list(X.columns[rfe.support_]))"
   ]
  },
  {
   "cell_type": "markdown",
   "id": "1b42a3bd",
   "metadata": {},
   "source": [
    "## 6. Chi-Square Test"
   ]
  },
  {
   "cell_type": "code",
   "execution_count": null,
   "id": "df621158",
   "metadata": {},
   "outputs": [],
   "source": [
    "scaler = MinMaxScaler()\n",
    "X_scaled = scaler.fit_transform(X)\n",
    "\n",
    "chi = SelectKBest(score_func=chi2, k=8)\n",
    "chi.fit(X_scaled, y)\n",
    "\n",
    "print(\"Chi-Square Selected Features:\", list(X.columns[chi.get_support()]))"
   ]
  },
  {
   "cell_type": "markdown",
   "id": "2bba9ede",
   "metadata": {},
   "source": [
    "## 7. Saving the reduced dataset"
   ]
  },
  {
   "cell_type": "code",
   "execution_count": null,
   "id": "524bad88",
   "metadata": {},
   "outputs": [],
   "source": [
    "selected_features = importances.head(8).index.tolist()\n",
    "df_selected = df[selected_features + [\"target\"]]\n",
    "df_selected.to_csv(\"../data/heart_disease.csv\", index=False)"
   ]
  }
 ],
 "metadata": {
  "kernelspec": {
   "display_name": ".venv",
   "language": "python",
   "name": "python3"
  },
  "language_info": {
   "codemirror_mode": {
    "name": "ipython",
    "version": 3
   },
   "file_extension": ".py",
   "mimetype": "text/x-python",
   "name": "python",
   "nbconvert_exporter": "python",
   "pygments_lexer": "ipython3",
   "version": "3.11.9"
  }
 },
 "nbformat": 4,
 "nbformat_minor": 5
}
