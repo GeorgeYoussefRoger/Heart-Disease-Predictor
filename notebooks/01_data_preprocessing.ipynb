{
 "cells": [
  {
   "cell_type": "markdown",
   "id": "b1bb8ce9",
   "metadata": {},
   "source": [
    "# Data Preprocessing\n",
    "This notebook handles initial data cleaning, preprocessing and exploratory data analysis of the Heart Disease UCI dataset to prepare it for modeling."
   ]
  },
  {
   "cell_type": "markdown",
   "id": "a2a000cf",
   "metadata": {},
   "source": [
    "## 1. Importing necessary libraries"
   ]
  },
  {
   "cell_type": "code",
   "execution_count": null,
   "id": "b6b9cd39",
   "metadata": {},
   "outputs": [],
   "source": [
    "import numpy as np\n",
    "import pandas as pd\n",
    "import matplotlib.pyplot as plt\n",
    "import seaborn as sns\n",
    "from sklearn.impute import SimpleImputer\n",
    "from sklearn.preprocessing import StandardScaler"
   ]
  },
  {
   "cell_type": "markdown",
   "id": "8cb63acf",
   "metadata": {},
   "source": [
    "## 2. Loading the Heart Disease UCI dataset into a Pandas DataFrame"
   ]
  },
  {
   "cell_type": "code",
   "execution_count": null,
   "id": "445e875d",
   "metadata": {},
   "outputs": [],
   "source": [
    "column_names = [\n",
    "    \"age\", \"sex\", \"cp\", \"trestbps\", \"chol\", \"fbs\", \"restecg\",\n",
    "    \"thalach\", \"exang\", \"oldpeak\", \"slope\", \"ca\", \"thal\", \"target\"\n",
    "]\n",
    "\n",
    "df = pd.read_csv(\"../heart+disease/processed.cleveland.data\", names=column_names)\n",
    "\n",
    "df.replace('?', np.nan, inplace=True) # Replacing all instances of '?' with NaN\n",
    "df = df.astype(float)"
   ]
  },
  {
   "cell_type": "markdown",
   "id": "78aef386",
   "metadata": {},
   "source": [
    "## 3. Handling the missing values by imputation"
   ]
  },
  {
   "cell_type": "code",
   "execution_count": null,
   "id": "c233cf3a",
   "metadata": {},
   "outputs": [],
   "source": [
    "print(\"\\nMissing Values Before Imputation:\\n\", df.isna().sum())\n",
    "\n",
    "imputer = SimpleImputer(strategy=\"most_frequent\")\n",
    "df[df.columns] = imputer.fit_transform(df)\n",
    "\n",
    "print(\"\\nMissing Values After Imputation:\\n\", df.isna().sum())"
   ]
  },
  {
   "cell_type": "markdown",
   "id": "789fcae0",
   "metadata": {},
   "source": [
    "## 4. Performing data encoding on categorical features"
   ]
  },
  {
   "cell_type": "code",
   "execution_count": null,
   "id": "690b94cf",
   "metadata": {},
   "outputs": [],
   "source": [
    "categorical_cols = [\"sex\", \"cp\", \"fbs\", \"restecg\", \"exang\", \"slope\", \"thal\"]\n",
    "\n",
    "df_encoded = pd.get_dummies(df, columns=categorical_cols)"
   ]
  },
  {
   "cell_type": "markdown",
   "id": "7c8f1a2f",
   "metadata": {},
   "source": [
    "## 5. Standardizing the numerical features using StandardScaler"
   ]
  },
  {
   "cell_type": "code",
   "execution_count": null,
   "id": "70b550cb",
   "metadata": {},
   "outputs": [],
   "source": [
    "numerical_cols = [\"age\", \"trestbps\", \"chol\", \"thalach\", \"oldpeak\", \"ca\"]\n",
    "\n",
    "scaler = StandardScaler()\n",
    "df_encoded[numerical_cols] = scaler.fit_transform(df_encoded[numerical_cols])"
   ]
  },
  {
   "cell_type": "markdown",
   "id": "bc23dd5b",
   "metadata": {},
   "source": [
    "## 6. Exploratory Data Analysis (EDA)"
   ]
  },
  {
   "cell_type": "markdown",
   "id": "56921a90",
   "metadata": {},
   "source": [
    "EDA with Histograms"
   ]
  },
  {
   "cell_type": "code",
   "execution_count": null,
   "id": "1c60153e",
   "metadata": {},
   "outputs": [],
   "source": [
    "df.hist(figsize=(14, 12))\n",
    "plt.suptitle(\"Histograms of Original Features\")\n",
    "plt.show()"
   ]
  },
  {
   "cell_type": "markdown",
   "id": "3c24839d",
   "metadata": {},
   "source": [
    "EDA with correlation heatmap"
   ]
  },
  {
   "cell_type": "code",
   "execution_count": null,
   "id": "d5bf254d",
   "metadata": {},
   "outputs": [],
   "source": [
    "plt.figure(figsize=(14, 12))\n",
    "sns.heatmap(df.corr(), annot=True, cmap=\"coolwarm\")\n",
    "plt.title(\"Correlation Heatmap of Original Features\")\n",
    "plt.show()"
   ]
  },
  {
   "cell_type": "markdown",
   "id": "c5f9902d",
   "metadata": {},
   "source": [
    "EDA with boxplots"
   ]
  },
  {
   "cell_type": "code",
   "execution_count": null,
   "id": "148a0f6e",
   "metadata": {},
   "outputs": [],
   "source": [
    "for i in numerical_cols:\n",
    "    plt.figure()\n",
    "    sns.boxplot(x=i, data=df)\n",
    "    plt.title(f\"Boxplot of {i}\")\n",
    "    plt.show()"
   ]
  },
  {
   "cell_type": "markdown",
   "id": "7d27df42",
   "metadata": {},
   "source": [
    "## 7. Saving the cleaned dataset"
   ]
  },
  {
   "cell_type": "code",
   "execution_count": null,
   "id": "7803d574",
   "metadata": {},
   "outputs": [],
   "source": [
    "df_encoded.to_csv(\"../data/cleaned_heart_disease.csv\", index=False)"
   ]
  }
 ],
 "metadata": {
  "kernelspec": {
   "display_name": ".venv",
   "language": "python",
   "name": "python3"
  },
  "language_info": {
   "codemirror_mode": {
    "name": "ipython",
    "version": 3
   },
   "file_extension": ".py",
   "mimetype": "text/x-python",
   "name": "python",
   "nbconvert_exporter": "python",
   "pygments_lexer": "ipython3",
   "version": "3.11.9"
  }
 },
 "nbformat": 4,
 "nbformat_minor": 5
}
