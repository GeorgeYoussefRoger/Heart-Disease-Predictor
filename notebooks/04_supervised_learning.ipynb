{
 "cells": [
  {
   "cell_type": "markdown",
   "id": "fb925011",
   "metadata": {},
   "source": [
    "# Supervised Learning\n",
    "This notebook trains various supervised learning classification models including Logistic Regression, Decision Trees, Random Forest and SVM, to predict heart disease."
   ]
  },
  {
   "cell_type": "markdown",
   "id": "83393255",
   "metadata": {},
   "source": [
    "## 1. Importing necessary libraries"
   ]
  },
  {
   "cell_type": "code",
   "execution_count": null,
   "id": "6bd3fa00",
   "metadata": {},
   "outputs": [],
   "source": [
    "import numpy as np\n",
    "import pandas as pd\n",
    "import matplotlib.pyplot as plt\n",
    "from sklearn.model_selection import train_test_split\n",
    "from sklearn.preprocessing import label_binarize\n",
    "from sklearn.metrics import accuracy_score, precision_score, recall_score, f1_score, roc_auc_score, roc_curve, auc\n",
    "from sklearn.linear_model import LogisticRegression\n",
    "from sklearn.tree import DecisionTreeClassifier\n",
    "from sklearn.ensemble import RandomForestClassifier\n",
    "from sklearn.svm import SVC"
   ]
  },
  {
   "cell_type": "markdown",
   "id": "88e27986",
   "metadata": {},
   "source": [
    "## 2. Loading the feature selected dataset"
   ]
  },
  {
   "cell_type": "code",
   "execution_count": null,
   "id": "3c8c6542",
   "metadata": {},
   "outputs": [],
   "source": [
    "df = pd.read_csv(\"../data/heart_disease.csv\")\n",
    "\n",
    "X = df.drop(\"target\", axis=1)\n",
    "y = df[\"target\"]"
   ]
  },
  {
   "cell_type": "markdown",
   "id": "03c13928",
   "metadata": {},
   "source": [
    "## 3. Splitting the data into training and testing"
   ]
  },
  {
   "cell_type": "code",
   "execution_count": null,
   "id": "c68461b1",
   "metadata": {},
   "outputs": [],
   "source": [
    "X_train, X_test, y_train, y_test = train_test_split(X, y, test_size=0.2, random_state=42, stratify=y)\n",
    "\n",
    "y_test_bin = label_binarize(y_test, classes=np.unique(y_test))"
   ]
  },
  {
   "cell_type": "markdown",
   "id": "795395dd",
   "metadata": {},
   "source": [
    "## 4. Training and Evaluating Models"
   ]
  },
  {
   "cell_type": "markdown",
   "id": "8e04372e",
   "metadata": {},
   "source": [
    "### 4.1 Logistic Regression model"
   ]
  },
  {
   "cell_type": "code",
   "execution_count": null,
   "id": "5d3cb6fa",
   "metadata": {},
   "outputs": [],
   "source": [
    "lr = LogisticRegression(random_state=42)\n",
    "lr.fit(X_train, y_train)\n",
    "\n",
    "y_pred = lr.predict(X_test)\n",
    "\n",
    "print(\"=== Logistic Regression Evaluation ===\")\n",
    "print(\"Accuracy:\", accuracy_score(y_test, y_pred))\n",
    "print(\"Precision:\", precision_score(y_test, y_pred, average=\"weighted\"))\n",
    "print(\"Recall:\", recall_score(y_test, y_pred, average=\"weighted\"))\n",
    "print(\"F1 Score:\", f1_score(y_test, y_pred, average=\"weighted\"))\n",
    "print(\"AUC Score:\", roc_auc_score(y_test, lr.predict_proba(X_test), multi_class=\"ovr\"))\n",
    "\n",
    "plt.figure(figsize=(8,6))\n",
    "for i, cols in enumerate(np.unique(y_test)):\n",
    "    fpr, tpr, threshold = roc_curve(y_test_bin[:, i], lr.predict_proba(X_test)[:, i])\n",
    "    plt.plot(fpr, tpr, label=f\"Class {cols} (AUC={auc(fpr, tpr):.2f})\")\n",
    "\n",
    "plt.plot([0,1],[0,1],'k--')\n",
    "plt.xlabel(\"False Positive Rate\")\n",
    "plt.ylabel(\"True Positive Rate\")\n",
    "plt.title(\"ROC Curve for Logistic Regression\")\n",
    "plt.legend()\n",
    "plt.show()"
   ]
  },
  {
   "cell_type": "markdown",
   "id": "cfcc7678",
   "metadata": {},
   "source": [
    "### 4.2 Decision Tree model"
   ]
  },
  {
   "cell_type": "code",
   "execution_count": null,
   "id": "62f6477b",
   "metadata": {},
   "outputs": [],
   "source": [
    "dt = DecisionTreeClassifier(random_state=42)\n",
    "dt.fit(X_train, y_train)\n",
    "\n",
    "y_pred = dt.predict(X_test)\n",
    "\n",
    "print(\"=== Decision Tree Evaluation ===\")\n",
    "print(\"Accuracy:\", accuracy_score(y_test, y_pred))\n",
    "print(\"Precision:\", precision_score(y_test, y_pred, average=\"weighted\"))\n",
    "print(\"Recall:\", recall_score(y_test, y_pred, average=\"weighted\"))\n",
    "print(\"F1 Score:\", f1_score(y_test, y_pred, average=\"weighted\"))\n",
    "print(\"AUC Score:\", roc_auc_score(y_test, dt.predict_proba(X_test), multi_class=\"ovr\"))\n",
    "\n",
    "plt.figure(figsize=(8,6))\n",
    "for i, cols in enumerate(np.unique(y_test)):\n",
    "    fpr, tpr, threshold = roc_curve(y_test_bin[:, i], dt.predict_proba(X_test)[:, i])\n",
    "    plt.plot(fpr, tpr, label=f\"Class {cols} (AUC={auc(fpr, tpr):.2f})\")\n",
    "\n",
    "plt.plot([0,1],[0,1],'k--')\n",
    "plt.xlabel(\"False Positive Rate\")\n",
    "plt.ylabel(\"True Positive Rate\")\n",
    "plt.title(\"ROC Curve for Decision Tree\")\n",
    "plt.legend()\n",
    "plt.show()"
   ]
  },
  {
   "cell_type": "markdown",
   "id": "3a631f26",
   "metadata": {},
   "source": [
    "### 4.3 Random Forest model"
   ]
  },
  {
   "cell_type": "code",
   "execution_count": null,
   "id": "bb806bfa",
   "metadata": {},
   "outputs": [],
   "source": [
    "rf = RandomForestClassifier(random_state=42)\n",
    "rf.fit(X_train, y_train)\n",
    "\n",
    "y_pred = rf.predict(X_test)\n",
    "\n",
    "print(\"=== Random Forest Evaluation ===\")\n",
    "print(\"Accuracy:\", accuracy_score(y_test, y_pred))\n",
    "print(\"Precision:\", precision_score(y_test, y_pred, average=\"weighted\"))\n",
    "print(\"Recall:\", recall_score(y_test, y_pred, average=\"weighted\"))\n",
    "print(\"F1 Score:\", f1_score(y_test, y_pred, average=\"weighted\"))\n",
    "print(\"AUC Score:\", roc_auc_score(y_test, rf.predict_proba(X_test), multi_class=\"ovr\"))\n",
    "\n",
    "plt.figure(figsize=(8,6))\n",
    "for i, cols in enumerate(np.unique(y_test)):\n",
    "    fpr, tpr, threshold = roc_curve(y_test_bin[:, i], rf.predict_proba(X_test)[:, i])\n",
    "    plt.plot(fpr, tpr, label=f\"Class {cols} (AUC={auc(fpr, tpr):.2f})\")\n",
    "\n",
    "plt.plot([0,1],[0,1],'k--')\n",
    "plt.xlabel(\"False Positive Rate\")\n",
    "plt.ylabel(\"True Positive Rate\")\n",
    "plt.title(\"ROC Curve for Random Forest\")\n",
    "plt.legend()\n",
    "plt.show()"
   ]
  },
  {
   "cell_type": "markdown",
   "id": "869199c2",
   "metadata": {},
   "source": [
    "### 4.4 Support Vector Machine model"
   ]
  },
  {
   "cell_type": "code",
   "execution_count": null,
   "id": "31369fa8",
   "metadata": {},
   "outputs": [],
   "source": [
    "svm = SVC(probability=True, random_state=42)\n",
    "svm.fit(X_train, y_train)\n",
    "\n",
    "y_pred = svm.predict(X_test)\n",
    "\n",
    "print(\"=== SVM Evaluation ===\")\n",
    "print(\"Accuracy:\", accuracy_score(y_test, y_pred))\n",
    "print(\"Precision:\", precision_score(y_test, y_pred, average=\"weighted\"))\n",
    "print(\"Recall:\", recall_score(y_test, y_pred, average=\"weighted\"))\n",
    "print(\"F1 Score:\", f1_score(y_test, y_pred, average=\"weighted\"))\n",
    "print(\"AUC Score:\", roc_auc_score(y_test, svm.predict_proba(X_test), multi_class=\"ovr\"))\n",
    "\n",
    "plt.figure(figsize=(8,6))\n",
    "for i, cols in enumerate(np.unique(y_test)):\n",
    "    fpr, tpr, threshold = roc_curve(y_test_bin[:, i], svm.predict_proba(X_test)[:, i])\n",
    "    plt.plot(fpr, tpr, label=f\"Class {cols} (AUC={auc(fpr, tpr):.2f})\")\n",
    "\n",
    "plt.plot([0,1],[0,1],'k--')\n",
    "plt.xlabel(\"False Positive Rate\")\n",
    "plt.ylabel(\"True Positive Rate\")\n",
    "plt.title(\"ROC Curve for SVM\")\n",
    "plt.legend()\n",
    "plt.show()"
   ]
  },
  {
   "cell_type": "markdown",
   "id": "ac8e0584",
   "metadata": {},
   "source": [
    "## 5. Evaluation between models using ROC curve"
   ]
  },
  {
   "cell_type": "code",
   "execution_count": null,
   "id": "39d9fdb0",
   "metadata": {},
   "outputs": [],
   "source": [
    "plt.figure(figsize=(10, 6))\n",
    "\n",
    "# Logistic Regression\n",
    "fpr, tpr, threshold = roc_curve(y_test_bin.ravel(), lr.predict_proba(X_test).ravel())\n",
    "plt.plot(fpr, tpr, label=f'Logistic Regression (AUC={auc(fpr, tpr):.2f})')\n",
    "\n",
    "# Decision Tree\n",
    "fpr, tpr, threshold = roc_curve(y_test_bin.ravel(), dt.predict_proba(X_test).ravel())\n",
    "plt.plot(fpr, tpr, label=f'Decision Tree (AUC={auc(fpr, tpr):.2f})')\n",
    "\n",
    "# Random Forest\n",
    "fpr, tpr, threshold = roc_curve(y_test_bin.ravel(), rf.predict_proba(X_test).ravel())\n",
    "plt.plot(fpr, tpr, label=f'Random Forest (AUC={auc(fpr, tpr):.2f})')\n",
    "\n",
    "# SVM\n",
    "fpr, tpr, threshold = roc_curve(y_test_bin.ravel(), svm.predict_proba(X_test).ravel())\n",
    "plt.plot(fpr, tpr, label=f'SVM (AUC={auc(fpr, tpr):.2f})')\n",
    "\n",
    "plt.plot([0,1], [0,1], \"k--\")\n",
    "plt.xlabel('False Positive Rate')\n",
    "plt.ylabel('True Positive Rate')\n",
    "plt.title('ROC Curve between models')\n",
    "plt.legend()\n",
    "plt.show()"
   ]
  }
 ],
 "metadata": {
  "kernelspec": {
   "display_name": ".venv",
   "language": "python",
   "name": "python3"
  },
  "language_info": {
   "codemirror_mode": {
    "name": "ipython",
    "version": 3
   },
   "file_extension": ".py",
   "mimetype": "text/x-python",
   "name": "python",
   "nbconvert_exporter": "python",
   "pygments_lexer": "ipython3",
   "version": "3.11.9"
  }
 },
 "nbformat": 4,
 "nbformat_minor": 5
}
