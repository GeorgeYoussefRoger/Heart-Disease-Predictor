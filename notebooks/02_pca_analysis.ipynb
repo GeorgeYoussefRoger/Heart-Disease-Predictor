{
 "cells": [
  {
   "cell_type": "markdown",
   "id": "9f963f61",
   "metadata": {},
   "source": [
    "# PCA Analysis\n",
    "This notebook applies Principal Component Analysis (PCA) to reduce the dataset's dimensionality and visualize the results"
   ]
  },
  {
   "cell_type": "markdown",
   "id": "527bc23a",
   "metadata": {},
   "source": [
    "## 1. Importing necessary libraries"
   ]
  },
  {
   "cell_type": "code",
   "execution_count": null,
   "id": "09ee236b",
   "metadata": {},
   "outputs": [],
   "source": [
    "import pandas as pd\n",
    "import matplotlib.pyplot as plt\n",
    "from sklearn.decomposition import PCA"
   ]
  },
  {
   "cell_type": "markdown",
   "id": "149e352e",
   "metadata": {},
   "source": [
    "## 2. Loading the cleaned dataset "
   ]
  },
  {
   "cell_type": "code",
   "execution_count": null,
   "id": "9a7d4fe2",
   "metadata": {},
   "outputs": [],
   "source": [
    "df = pd.read_csv(\"../data/cleaned_heart_disease.csv\")\n",
    "\n",
    "X = df.drop(\"target\", axis=1)\n",
    "y = df[\"target\"]"
   ]
  },
  {
   "cell_type": "markdown",
   "id": "1966c2d5",
   "metadata": {},
   "source": [
    "## 3. Applying PCA"
   ]
  },
  {
   "cell_type": "code",
   "execution_count": null,
   "id": "11bda81f",
   "metadata": {},
   "outputs": [],
   "source": [
    "pca = PCA()\n",
    "X_pca = pca.fit_transform(X)"
   ]
  },
  {
   "cell_type": "markdown",
   "id": "67511b51",
   "metadata": {},
   "source": [
    "## 4. Determining the optimal number of PC"
   ]
  },
  {
   "cell_type": "code",
   "execution_count": null,
   "id": "cd7a05ce",
   "metadata": {},
   "outputs": [],
   "source": [
    "explained_variance = pca.explained_variance_ratio_\n",
    "cumulative_variance = explained_variance.cumsum()\n",
    "n_components = (cumulative_variance < 0.95).sum() + 1\n",
    "\n",
    "print(f\"Optimal number of components: {n_components}\")"
   ]
  },
  {
   "cell_type": "markdown",
   "id": "9b7b811a",
   "metadata": {},
   "source": [
    "## 5. Applying PCA with the optimal number of PC"
   ]
  },
  {
   "cell_type": "code",
   "execution_count": null,
   "id": "3d732e09",
   "metadata": {},
   "outputs": [],
   "source": [
    "pca_opt = PCA(n_components=n_components)\n",
    "X_pca_opt = pca_opt.fit_transform(X)"
   ]
  },
  {
   "cell_type": "markdown",
   "id": "9278c5bf",
   "metadata": {},
   "source": [
    "## 6. Visualizing PCA"
   ]
  },
  {
   "cell_type": "markdown",
   "id": "d0daf201",
   "metadata": {},
   "source": [
    "Cumulative variance plot"
   ]
  },
  {
   "cell_type": "code",
   "execution_count": null,
   "id": "812f6b1e",
   "metadata": {},
   "outputs": [],
   "source": [
    "plt.figure(figsize=(10, 6))\n",
    "plt.plot(range(1, len(explained_variance)+1), cumulative_variance, marker='o')\n",
    "plt.xlabel(\"Number of Principal Components\")\n",
    "plt.ylabel(\"Cumulative Variance\")\n",
    "plt.title(\"PCA of Cumulative Variance\")\n",
    "plt.grid(True)\n",
    "plt.show()"
   ]
  },
  {
   "cell_type": "markdown",
   "id": "b37c6cae",
   "metadata": {},
   "source": [
    "Scatter plot"
   ]
  },
  {
   "cell_type": "code",
   "execution_count": null,
   "id": "85608415",
   "metadata": {},
   "outputs": [],
   "source": [
    "plt.figure(figsize=(8, 6))\n",
    "plt.scatter(X_pca_opt[:, 0], X_pca_opt[:, 1], c=y, cmap=\"viridis\")\n",
    "plt.xlabel(\"First Principal Component\")\n",
    "plt.ylabel(\"Second Principal Component\")\n",
    "plt.title(\"PCA of Heart Disease UCI Dataset\")\n",
    "plt.colorbar(label=\"Heart Disease\")\n",
    "plt.show()"
   ]
  },
  {
   "cell_type": "markdown",
   "id": "d3376579",
   "metadata": {},
   "source": [
    "## 7. Saving the PCA dataset"
   ]
  },
  {
   "cell_type": "code",
   "execution_count": null,
   "id": "90ea8143",
   "metadata": {},
   "outputs": [],
   "source": [
    "pca_columns = []\n",
    "for i in range(X_pca_opt.shape[1]):\n",
    "    pca_columns.append(\"PC\" + str(i+1))\n",
    "\n",
    "df_pca = pd.DataFrame(X_pca_opt, columns=pca_columns)\n",
    "df_pca[\"target\"] = y.values\n",
    "\n",
    "df_pca.to_csv(\"../data/pca_heart_disease.csv\", index=False)"
   ]
  }
 ],
 "metadata": {
  "kernelspec": {
   "display_name": ".venv",
   "language": "python",
   "name": "python3"
  },
  "language_info": {
   "codemirror_mode": {
    "name": "ipython",
    "version": 3
   },
   "file_extension": ".py",
   "mimetype": "text/x-python",
   "name": "python",
   "nbconvert_exporter": "python",
   "pygments_lexer": "ipython3",
   "version": "3.11.9"
  }
 },
 "nbformat": 4,
 "nbformat_minor": 5
}
