{
 "cells": [
  {
   "cell_type": "markdown",
   "id": "b62c779c",
   "metadata": {},
   "source": [
    "# Unsupervised Learning\n",
    "This notebook uses unsupervised learning models like K-Means and Hierarchical Clustering to discover patterns within the data."
   ]
  },
  {
   "cell_type": "markdown",
   "id": "45fa7dbd",
   "metadata": {},
   "source": [
    "## 1. Importing necessary libraries"
   ]
  },
  {
   "cell_type": "code",
   "execution_count": null,
   "id": "ef31f0dc",
   "metadata": {},
   "outputs": [],
   "source": [
    "import numpy as np\n",
    "import pandas as pd\n",
    "import matplotlib.pyplot as plt\n",
    "from sklearn.cluster import KMeans, AgglomerativeClustering\n",
    "from sklearn.metrics import silhouette_score, adjusted_rand_score\n",
    "from scipy.cluster.hierarchy import linkage, dendrogram"
   ]
  },
  {
   "cell_type": "markdown",
   "id": "880b9202",
   "metadata": {},
   "source": [
    "## 2. Loading the feature selected dataset"
   ]
  },
  {
   "cell_type": "code",
   "execution_count": null,
   "id": "86484a8b",
   "metadata": {},
   "outputs": [],
   "source": [
    "df = pd.read_csv(\"../data/heart_disease.csv\")\n",
    "\n",
    "X = df.drop(\"target\", axis=1)\n",
    "y = df[\"target\"]"
   ]
  },
  {
   "cell_type": "markdown",
   "id": "9746674f",
   "metadata": {},
   "source": [
    "## 3. Applying K-Means Clustering"
   ]
  },
  {
   "cell_type": "code",
   "execution_count": null,
   "id": "de633489",
   "metadata": {},
   "outputs": [],
   "source": [
    "k = range(2, 11)\n",
    "wcs, silhouette = [], []\n",
    "\n",
    "for i in k:\n",
    "    kmeans = KMeans(n_clusters=i, random_state=42)\n",
    "    kmeans.fit_predict(X)\n",
    "    wcs.append(kmeans.inertia_)\n",
    "    silhouette.append(silhouette_score(X, kmeans.labels_))\n",
    "\n",
    "plt.figure(figsize=(12,5))\n",
    "\n",
    "# Plot for elbow Method\n",
    "plt.subplot(1,2,1)\n",
    "plt.plot(k, wcs, marker=\"o\")\n",
    "plt.title(\"Elbow Method\")\n",
    "plt.xlabel(\"K\")\n",
    "plt.ylabel(\"WCSS\")\n",
    "\n",
    "# Plot for Silhouette Score\n",
    "plt.subplot(1,2,2)\n",
    "plt.plot(k, silhouette, marker=\"o\")\n",
    "plt.title(\"Silhouette Score\")\n",
    "plt.xlabel(\"K\")\n",
    "plt.ylabel(\"Score\")\n",
    "plt.tight_layout() \n",
    "plt.show()\n",
    "\n",
    "best_k = k[np.argmax(silhouette)]\n",
    "print(\"Best K by Silhouette:\", best_k)\n",
    "\n",
    "kmeans = KMeans(n_clusters=best_k, random_state=42)\n",
    "kmeans.fit_predict(X)\n",
    "\n",
    "print(\"ARI:\", adjusted_rand_score(y, kmeans.labels_))\n",
    "print(pd.crosstab(y, kmeans.labels_, rownames=[\"True Label\"], colnames=[\"Cluster\"]))\n"
   ]
  },
  {
   "cell_type": "markdown",
   "id": "34c6c0e9",
   "metadata": {},
   "source": [
    "## 4. Performing Hierarchical Clustering"
   ]
  },
  {
   "cell_type": "code",
   "execution_count": null,
   "id": "96ac8044",
   "metadata": {},
   "outputs": [],
   "source": [
    "linked = linkage(X, method=\"ward\")\n",
    "plt.figure(figsize=(12,5))\n",
    "dendrogram(linked)\n",
    "plt.title(\"Hierarchical Clustering Dendrogram\")\n",
    "plt.show()\n",
    "\n",
    "hc = AgglomerativeClustering(n_clusters=best_k, linkage=\"ward\")\n",
    "hc.fit_predict(X)\n",
    "\n",
    "print(\"ARI:\", adjusted_rand_score(y, hc.labels_))\n",
    "print(pd.crosstab(y, hc.labels_, rownames=[\"True Label\"], colnames=[\"Cluster\"]))"
   ]
  }
 ],
 "metadata": {
  "kernelspec": {
   "display_name": ".venv",
   "language": "python",
   "name": "python3"
  },
  "language_info": {
   "codemirror_mode": {
    "name": "ipython",
    "version": 3
   },
   "file_extension": ".py",
   "mimetype": "text/x-python",
   "name": "python",
   "nbconvert_exporter": "python",
   "pygments_lexer": "ipython3",
   "version": "3.11.9"
  }
 },
 "nbformat": 4,
 "nbformat_minor": 5
}
