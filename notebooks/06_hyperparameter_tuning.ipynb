{
 "cells": [
  {
   "cell_type": "markdown",
   "id": "cad05f61",
   "metadata": {},
   "source": [
    "# Hyper Parameter Tuning\n",
    "This Notebook Optimizes Models using Hyperparameter Tuning (GridSearchCV, RandomizedSearchCV)."
   ]
  },
  {
   "cell_type": "code",
   "execution_count": 1,
   "id": "d83222e2",
   "metadata": {},
   "outputs": [],
   "source": [
    "import pandas as pd\n",
    "import joblib\n",
    "from sklearn.model_selection import train_test_split, GridSearchCV, RandomizedSearchCV\n",
    "from sklearn.linear_model import LogisticRegression\n",
    "from sklearn.tree import DecisionTreeClassifier\n",
    "from sklearn.ensemble import RandomForestClassifier\n",
    "from sklearn.svm import SVC\n",
    "from sklearn.metrics import accuracy_score\n",
    "from sklearn.pipeline import Pipeline\n",
    "from sklearn.preprocessing import StandardScaler"
   ]
  },
  {
   "cell_type": "markdown",
   "id": "35aa18f7",
   "metadata": {},
   "source": [
    "## 1. Load feature selected dataset"
   ]
  },
  {
   "cell_type": "code",
   "execution_count": 2,
   "id": "da4e96f5",
   "metadata": {},
   "outputs": [],
   "source": [
    "df = pd.read_csv(\"../data/selected_feature_heart_disease.csv\")\n",
    "\n",
    "X = df.drop(\"target\", axis=1)\n",
    "y = df[\"target\"]\n",
    "\n",
    "X_train, X_test, y_train, y_test = train_test_split(X, y, test_size=0.2, random_state=42)"
   ]
  },
  {
   "cell_type": "markdown",
   "id": "2b132024",
   "metadata": {},
   "source": [
    "## 2. Optimize model hyperparameters"
   ]
  },
  {
   "cell_type": "markdown",
   "id": "a2f0325b",
   "metadata": {},
   "source": [
    "### Logistic Regression"
   ]
  },
  {
   "cell_type": "code",
   "execution_count": 3,
   "id": "47bf75ed",
   "metadata": {},
   "outputs": [
    {
     "name": "stdout",
     "output_type": "stream",
     "text": [
      "Best Logistic Regression: {'C': 0.1, 'max_iter': 100, 'solver': 'liblinear'}\n"
     ]
    }
   ],
   "source": [
    "grid_lr = GridSearchCV(LogisticRegression(random_state=42), {\n",
    "    \"C\": [0.01, 0.1, 1, 10, 100],\n",
    "    \"solver\": [\"liblinear\", \"saga\"],\n",
    "    \"max_iter\": [100, 200, 300, 400, 500],\n",
    "}, cv=5, scoring=\"accuracy\", n_jobs=-1)\n",
    "\n",
    "grid_lr.fit(X_train, y_train)\n",
    "print(\"Best Logistic Regression:\", grid_lr.best_params_)\n"
   ]
  },
  {
   "cell_type": "markdown",
   "id": "4be75caa",
   "metadata": {},
   "source": [
    "### Decision Tree"
   ]
  },
  {
   "cell_type": "code",
   "execution_count": 4,
   "id": "b915da7b",
   "metadata": {},
   "outputs": [
    {
     "name": "stdout",
     "output_type": "stream",
     "text": [
      "Best Decision Tree: {'min_samples_split': 10, 'min_samples_leaf': 2, 'max_depth': None}\n"
     ]
    }
   ],
   "source": [
    "rand_dt = RandomizedSearchCV(DecisionTreeClassifier(random_state=42), {\n",
    "    \"max_depth\": [None, 5, 10, 20],\n",
    "    \"min_samples_split\": [2, 5, 10],\n",
    "    \"min_samples_leaf\": [1, 2, 4]\n",
    "}, cv=5, scoring=\"accuracy\", n_jobs=-1)\n",
    "\n",
    "rand_dt.fit(X_train, y_train)\n",
    "print(\"Best Decision Tree:\", rand_dt.best_params_)\n"
   ]
  },
  {
   "cell_type": "markdown",
   "id": "1799928d",
   "metadata": {},
   "source": [
    "### Random Forest"
   ]
  },
  {
   "cell_type": "code",
   "execution_count": 5,
   "id": "ecfb5716",
   "metadata": {},
   "outputs": [
    {
     "name": "stdout",
     "output_type": "stream",
     "text": [
      "Best Random Forest: {'n_estimators': 100, 'min_samples_split': 10, 'min_samples_leaf': 4, 'max_depth': 20, 'bootstrap': False}\n"
     ]
    }
   ],
   "source": [
    "rand_rf = RandomizedSearchCV(RandomForestClassifier(random_state=42), {\n",
    "    \"n_estimators\": [50, 100, 200],\n",
    "    \"max_depth\": [None, 10, 20, 30],\n",
    "    \"min_samples_split\": [2, 5, 10],\n",
    "    \"min_samples_leaf\": [1, 2, 4],\n",
    "    \"bootstrap\": [True, False]\n",
    "}, cv=5, scoring=\"accuracy\", n_jobs=-1)\n",
    "\n",
    "rand_rf.fit(X_train, y_train)\n",
    "print(\"Best Random Forest:\", rand_rf.best_params_)\n"
   ]
  },
  {
   "cell_type": "markdown",
   "id": "181f5d61",
   "metadata": {},
   "source": [
    "### SVM"
   ]
  },
  {
   "cell_type": "code",
   "execution_count": 6,
   "id": "350cf843",
   "metadata": {},
   "outputs": [
    {
     "name": "stdout",
     "output_type": "stream",
     "text": [
      "Best SVM: {'C': 0.1, 'gamma': 'scale', 'kernel': 'linear'}\n"
     ]
    }
   ],
   "source": [
    "grid_svm = GridSearchCV(SVC(probability=True, random_state=42), {\n",
    "    \"C\": [0.1, 1, 10],\n",
    "    \"kernel\": [\"linear\", \"rbf\", \"poly\"],\n",
    "    \"gamma\": [\"scale\", \"auto\"]\n",
    "}, cv=5, scoring=\"accuracy\", n_jobs=-1)\n",
    "\n",
    "grid_svm.fit(X_train, y_train)\n",
    "print(\"Best SVM:\", grid_svm.best_params_)\n"
   ]
  },
  {
   "cell_type": "markdown",
   "id": "63cdddb8",
   "metadata": {},
   "source": [
    "## 3. Comparing optimized models with baseline performance"
   ]
  },
  {
   "cell_type": "markdown",
   "id": "1e9fc96d",
   "metadata": {},
   "source": [
    "### Calculating the baseline performance for every model"
   ]
  },
  {
   "cell_type": "code",
   "execution_count": 7,
   "id": "ab22f223",
   "metadata": {},
   "outputs": [],
   "source": [
    "baseline = {}\n",
    "\n",
    "# Logistic Regression\n",
    "lr = LogisticRegression(random_state=42)\n",
    "lr.fit(X_train, y_train)\n",
    "baseline[\"Logistic Regression\"] = accuracy_score(y_test, lr.predict(X_test))\n",
    "\n",
    "# Decision Tree\n",
    "dt = DecisionTreeClassifier(random_state=42)\n",
    "dt.fit(X_train, y_train)\n",
    "baseline[\"Decision Tree\"] = accuracy_score(y_test, dt.predict(X_test))\n",
    "\n",
    "# Random Forest\n",
    "rf = RandomForestClassifier(random_state=42)\n",
    "rf.fit(X_train, y_train)\n",
    "baseline[\"Random Forest\"] = accuracy_score(y_test, rf.predict(X_test))\n",
    "\n",
    "# SVM\n",
    "svm = SVC(probability=True, random_state=42)\n",
    "svm.fit(X_train, y_train)\n",
    "baseline[\"SVM\"] = accuracy_score(y_test, svm.predict(X_test))"
   ]
  },
  {
   "cell_type": "code",
   "execution_count": 8,
   "id": "9da5ca22",
   "metadata": {},
   "outputs": [
    {
     "name": "stdout",
     "output_type": "stream",
     "text": [
      "\t\t=== Model Comparison ===\n",
      "                     Baseline Accuracy  Tuned Accuracy\n",
      "Logistic Regression           0.916667        0.916667\n",
      "Decision Tree                 0.900000        0.916667\n",
      "Random Forest                 0.883333        0.916667\n",
      "SVM                           0.900000        0.866667\n"
     ]
    }
   ],
   "source": [
    "optimized = {}\n",
    "\n",
    "optimized[\"Logistic Regression\"] = accuracy_score(y_test, grid_lr.best_estimator_.predict(X_test))\n",
    "optimized[\"Decision Tree\"] = accuracy_score(y_test, rand_dt.best_estimator_.predict(X_test))\n",
    "optimized[\"Random Forest\"] = accuracy_score(y_test, rand_rf.best_estimator_.predict(X_test))\n",
    "optimized[\"SVM\"] = accuracy_score(y_test, grid_svm.best_estimator_.predict(X_test))\n",
    "\n",
    "comparison = pd.DataFrame({\n",
    "    \"Baseline Accuracy\": baseline,\n",
    "    \"Tuned Accuracy\": optimized\n",
    "})\n",
    "\n",
    "print(\"\\t\\t=== Model Comparison ===\")\n",
    "print(comparison)\n"
   ]
  },
  {
   "cell_type": "markdown",
   "id": "5f99d10c",
   "metadata": {},
   "source": [
    "## 4. Model Exporting"
   ]
  },
  {
   "cell_type": "code",
   "execution_count": 9,
   "id": "dd411e11",
   "metadata": {},
   "outputs": [
    {
     "data": {
      "text/plain": [
       "['../models/final_model.pkl']"
      ]
     },
     "execution_count": 9,
     "metadata": {},
     "output_type": "execute_result"
    }
   ],
   "source": [
    "# Build pipeline\n",
    "pipeline = Pipeline([\n",
    "    (\"scaler\", StandardScaler()), \n",
    "    (\"model\", grid_lr.best_estimator_)\n",
    "])\n",
    "\n",
    "pipeline.fit(X, y) # Fit on full dataset (train + test)\n",
    "\n",
    "joblib.dump(pipeline, \"../models/final_model.pkl\")"
   ]
  }
 ],
 "metadata": {
  "kernelspec": {
   "display_name": "Python 3",
   "language": "python",
   "name": "python3"
  },
  "language_info": {
   "codemirror_mode": {
    "name": "ipython",
    "version": 3
   },
   "file_extension": ".py",
   "mimetype": "text/x-python",
   "name": "python",
   "nbconvert_exporter": "python",
   "pygments_lexer": "ipython3",
   "version": "3.12.0"
  }
 },
 "nbformat": 4,
 "nbformat_minor": 5
}
